{
 "cells": [
  {
   "cell_type": "code",
   "execution_count": 48,
   "metadata": {},
   "outputs": [],
   "source": [
    "# pytorch 随便拉个模型，熟悉一下流程\n",
    "\n",
    "from torch.utils.data import Dataset\n",
    "from PIL import Image\n",
    "import numpy as np\n",
    "import os"
   ]
  },
  {
   "cell_type": "code",
   "execution_count": 49,
   "metadata": {},
   "outputs": [],
   "source": [
    "class CCPDDataset(Dataset):\n",
    "    def __init__(self, imgs_path, transform=None):\n",
    "        self.filepath = imgs_path\n",
    "        self.filenames = os.listdir(imgs_path)\n",
    "        while \".DS_Store\" in self.filenames:\n",
    "            self.filenames.remove(\".DS_Store\")\n",
    "        self.transform = transform\n",
    "    def __len__(self):\n",
    "        return len(self.filenames)\n",
    "    def __getitem__(self, index):\n",
    "        filename = self.filenames[index]\n",
    "        # 图片数据\n",
    "        img = Image.open(os.path.join(self.filepath, filename)).convert(\"RGB\")\n",
    "        # 找出带有车牌信息的文件名(chaos_name)以及扩展名(extension_name)\n",
    "        chaos_name, _ = filename.split(os.sep)[-1].split(\".\")\n",
    "        # 解析 chaos_name\n",
    "        [area_ratio, tilt_degree, bounding_box_coordinates, \n",
    "            four_vertices_locations, license_plate_number, brightness, \\\n",
    "            blurriness] = chaos_name.split(\"-\")\n",
    "        # four_vertices_locations 四个顶点的位置\n",
    "        four_vertices_locations_str_array = four_vertices_locations.split(\"_\")\n",
    "        self.four_vertices_locations = []\n",
    "        for xy_str in four_vertices_locations_str_array:\n",
    "            x_str, y_str = xy_str.split(\"&\")\n",
    "            self.four_vertices_locations.append([int(x_str), int(y_str)])\n",
    "        return img, np.array(self.four_vertices_locations)\n"
   ]
  },
  {
   "cell_type": "code",
   "execution_count": 50,
   "metadata": {
    "tags": []
   },
   "outputs": [
    {
     "output_type": "execute_result",
     "data": {
      "text/plain": "(4, 2)"
     },
     "metadata": {},
     "execution_count": 50
    }
   ],
   "source": [
    "dataset = CCPDDataset(\"/Users/putto/Playground/LPSayWhat/samples/CCPD-base\")\n",
    "img, label = dataset[1]\n",
    "label.shape"
   ]
  },
  {
   "cell_type": "code",
   "execution_count": null,
   "metadata": {},
   "outputs": [],
   "source": []
  }
 ],
 "metadata": {
  "language_info": {
   "codemirror_mode": {
    "name": "ipython",
    "version": 3
   },
   "file_extension": ".py",
   "mimetype": "text/x-python",
   "name": "python",
   "nbconvert_exporter": "python",
   "pygments_lexer": "ipython3",
   "version": "3.7.7-final"
  },
  "orig_nbformat": 2,
  "kernelspec": {
   "name": "python3",
   "display_name": "Python 3"
  }
 },
 "nbformat": 4,
 "nbformat_minor": 2
}