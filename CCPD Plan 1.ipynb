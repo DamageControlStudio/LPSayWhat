{
 "cells": [
  {
   "cell_type": "code",
   "execution_count": 5,
   "metadata": {},
   "outputs": [],
   "source": [
    "import tensorflow as tf\n",
    "AUTOTUNE = tf.data.experimental.AUTOTUNE"
   ]
  },
  {
   "cell_type": "code",
   "execution_count": 6,
   "metadata": {},
   "outputs": [
    {
     "name": "stdout",
     "output_type": "stream",
     "text": [
      "/home/putto/Playground/CCPD2019\n"
     ]
    }
   ],
   "source": [
    "import pathlib\n",
    "train_root = pathlib.Path(\"/home/putto/Playground/CCPD2019\") # Mi\n",
    "print(train_root)"
   ]
  },
  {
   "cell_type": "code",
   "execution_count": 7,
   "metadata": {},
   "outputs": [
    {
     "name": "stdout",
     "output_type": "stream",
     "text": [
      "There are 355010 images in total.\n"
     ]
    }
   ],
   "source": [
    "all_image_paths = list(train_root.glob('*/*'))\n",
    "all_image_paths = [str(item) for item in all_image_paths]\n",
    "print(\"There are %d images in total.\" % len(all_image_paths))"
   ]
  },
  {
   "cell_type": "code",
   "execution_count": null,
   "metadata": {},
   "outputs": [],
   "source": [
    "def load_and_preprocess_image(path):\n",
    "    image = tf.io.read_file(path)\n",
    "    image = tf.image.decode_image(image)\n",
    "    image = tf.cast(image, tf.float32) / 255.0  # normalize to [0,1] range\n",
    "    return image"
   ]
  },
  {
   "cell_type": "code",
   "execution_count": null,
   "metadata": {},
   "outputs": [],
   "source": [
    "import matplotlib.pyplot as plt\n",
    "\n",
    "image_path = all_image_paths[1234]\n",
    "plt.imshow(load_and_preprocess_image(image_path))\n",
    "print()"
   ]
  },
  {
   "cell_type": "code",
   "execution_count": null,
   "metadata": {},
   "outputs": [],
   "source": [
    "path_ds = tf.data.Dataset.from_tensor_slices(all_image_paths)\n",
    "image_ds = path_ds.map(load_and_preprocess_image, num_parallel_calls=AUTOTUNE)"
   ]
  },
  {
   "cell_type": "code",
   "execution_count": null,
   "metadata": {},
   "outputs": [],
   "source": [
    "#两组 Dataset 合并\n",
    "\n",
    "dataset_a = tf.data.Dataset.from_tensor_slices([1,2,3])\n",
    "dataset_b = tf.data.Dataset.from_tensor_slices([4,5,6])\n",
    "\n",
    "datasetconcat_dataset = dataset_a.concatenate(dataset_b)\n",
    "iterator = concat_dataset.make_one_shot_iterator()\n",
    "element = iterator.get_next()\n",
    "with tf.Session() as sess:\n",
    "   for i in range(6):\n",
    "       print(sess.run(element))"
   ]
  }
 ],
 "metadata": {
  "kernelspec": {
   "display_name": "Python 3",
   "language": "python",
   "name": "python3"
  },
  "language_info": {
   "codemirror_mode": {
    "name": "ipython",
    "version": 3
   },
   "file_extension": ".py",
   "mimetype": "text/x-python",
   "name": "python",
   "nbconvert_exporter": "python",
   "pygments_lexer": "ipython3",
   "version": "3.6.9"
  }
 },
 "nbformat": 4,
 "nbformat_minor": 2
}
